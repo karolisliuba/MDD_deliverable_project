{
 "cells": [
  {
   "cell_type": "markdown",
   "id": "56d3420c",
   "metadata": {
    "tags": []
   },
   "source": [
    "# Data understanding and data preperation according to crisp model."
   ]
  },
  {
   "cell_type": "markdown",
   "id": "89ff1279",
   "metadata": {},
   "source": [
    "### <ins> Importing modules and data </ins>"
   ]
  },
  {
   "cell_type": "code",
   "execution_count": 1,
   "id": "4d5a7533",
   "metadata": {
    "tags": []
   },
   "outputs": [],
   "source": [
    "# import libraries\n",
    "from sklearn.svm import SVC\n",
    "from sklearn.metrics import accuracy_score, confusion_matrix, classification_report\n",
    "import pandas as pd\n",
    "import numpy as np\n",
    "import seaborn as sns\n",
    "import matplotlib.pyplot as plt\n",
    "from sklearn.model_selection import train_test_split\n",
    "from sklearn.preprocessing import StandardScaler\n",
    "from sklearn.metrics import accuracy_score, classification_report, confusion_matrix\n",
    "from sklearn.preprocessing import MinMaxScaler\n",
    "from sklearn.decomposition import PCA\n",
    "from sklearn.naive_bayes import GaussianNB\n",
    "\n",
    "get_ipython().run_line_magic('matplotlib', 'qt')"
   ]
  },
  {
   "cell_type": "code",
   "execution_count": 2,
   "id": "da2fe997",
   "metadata": {
    "tags": []
   },
   "outputs": [
    {
     "data": {
      "text/plain": [
       "(32950, 16)"
      ]
     },
     "execution_count": 2,
     "metadata": {},
     "output_type": "execute_result"
    }
   ],
   "source": [
    "# import dataset\n",
    "df = pd.read_csv('banking_classification/new_train.csv')\n",
    "df.shape"
   ]
  },
  {
   "cell_type": "markdown",
   "id": "ea5f81f2",
   "metadata": {},
   "source": [
    "### <ins> Exploring the data </ins>"
   ]
  },
  {
   "cell_type": "code",
   "execution_count": 3,
   "id": "f1fce225",
   "metadata": {
    "tags": []
   },
   "outputs": [
    {
     "data": {
      "text/html": [
       "<div>\n",
       "<style scoped>\n",
       "    .dataframe tbody tr th:only-of-type {\n",
       "        vertical-align: middle;\n",
       "    }\n",
       "\n",
       "    .dataframe tbody tr th {\n",
       "        vertical-align: top;\n",
       "    }\n",
       "\n",
       "    .dataframe thead th {\n",
       "        text-align: right;\n",
       "    }\n",
       "</style>\n",
       "<table border=\"1\" class=\"dataframe\">\n",
       "  <thead>\n",
       "    <tr style=\"text-align: right;\">\n",
       "      <th></th>\n",
       "      <th>count</th>\n",
       "      <th>mean</th>\n",
       "      <th>std</th>\n",
       "      <th>min</th>\n",
       "      <th>25%</th>\n",
       "      <th>50%</th>\n",
       "      <th>75%</th>\n",
       "      <th>max</th>\n",
       "    </tr>\n",
       "  </thead>\n",
       "  <tbody>\n",
       "    <tr>\n",
       "      <th>age</th>\n",
       "      <td>32950.0</td>\n",
       "      <td>40.014112</td>\n",
       "      <td>10.403636</td>\n",
       "      <td>17.0</td>\n",
       "      <td>32.0</td>\n",
       "      <td>38.0</td>\n",
       "      <td>47.0</td>\n",
       "      <td>98.0</td>\n",
       "    </tr>\n",
       "    <tr>\n",
       "      <th>duration</th>\n",
       "      <td>32950.0</td>\n",
       "      <td>258.127466</td>\n",
       "      <td>258.975917</td>\n",
       "      <td>0.0</td>\n",
       "      <td>103.0</td>\n",
       "      <td>180.0</td>\n",
       "      <td>319.0</td>\n",
       "      <td>4918.0</td>\n",
       "    </tr>\n",
       "    <tr>\n",
       "      <th>campaign</th>\n",
       "      <td>32950.0</td>\n",
       "      <td>2.560607</td>\n",
       "      <td>2.752326</td>\n",
       "      <td>1.0</td>\n",
       "      <td>1.0</td>\n",
       "      <td>2.0</td>\n",
       "      <td>3.0</td>\n",
       "      <td>56.0</td>\n",
       "    </tr>\n",
       "    <tr>\n",
       "      <th>pdays</th>\n",
       "      <td>32950.0</td>\n",
       "      <td>962.052413</td>\n",
       "      <td>187.951096</td>\n",
       "      <td>0.0</td>\n",
       "      <td>999.0</td>\n",
       "      <td>999.0</td>\n",
       "      <td>999.0</td>\n",
       "      <td>999.0</td>\n",
       "    </tr>\n",
       "    <tr>\n",
       "      <th>previous</th>\n",
       "      <td>32950.0</td>\n",
       "      <td>0.174719</td>\n",
       "      <td>0.499025</td>\n",
       "      <td>0.0</td>\n",
       "      <td>0.0</td>\n",
       "      <td>0.0</td>\n",
       "      <td>0.0</td>\n",
       "      <td>7.0</td>\n",
       "    </tr>\n",
       "  </tbody>\n",
       "</table>\n",
       "</div>"
      ],
      "text/plain": [
       "            count        mean         std   min    25%    50%    75%     max\n",
       "age       32950.0   40.014112   10.403636  17.0   32.0   38.0   47.0    98.0\n",
       "duration  32950.0  258.127466  258.975917   0.0  103.0  180.0  319.0  4918.0\n",
       "campaign  32950.0    2.560607    2.752326   1.0    1.0    2.0    3.0    56.0\n",
       "pdays     32950.0  962.052413  187.951096   0.0  999.0  999.0  999.0   999.0\n",
       "previous  32950.0    0.174719    0.499025   0.0    0.0    0.0    0.0     7.0"
      ]
     },
     "execution_count": 3,
     "metadata": {},
     "output_type": "execute_result"
    }
   ],
   "source": [
    "# summary statistics\n",
    "df.describe().T"
   ]
  },
  {
   "cell_type": "code",
   "execution_count": 4,
   "id": "7ac4868c",
   "metadata": {
    "tags": []
   },
   "outputs": [
    {
     "data": {
      "text/plain": [
       "age            0\n",
       "job            0\n",
       "marital        0\n",
       "education      0\n",
       "default        0\n",
       "housing        0\n",
       "loan           0\n",
       "contact        0\n",
       "month          0\n",
       "day_of_week    0\n",
       "duration       0\n",
       "campaign       0\n",
       "pdays          0\n",
       "previous       0\n",
       "poutcome       0\n",
       "y              0\n",
       "dtype: int64"
      ]
     },
     "execution_count": 4,
     "metadata": {},
     "output_type": "execute_result"
    }
   ],
   "source": [
    "# checking null values\n",
    "df.isnull().sum()"
   ]
  },
  {
   "cell_type": "code",
   "execution_count": 5,
   "id": "43ecf16b",
   "metadata": {
    "tags": []
   },
   "outputs": [
    {
     "data": {
      "text/plain": [
       "8"
      ]
     },
     "execution_count": 5,
     "metadata": {},
     "output_type": "execute_result"
    }
   ],
   "source": [
    "# check duplicetes\n",
    "df.duplicated().sum()"
   ]
  },
  {
   "cell_type": "code",
   "execution_count": 6,
   "id": "201ae40c",
   "metadata": {
    "tags": []
   },
   "outputs": [
    {
     "data": {
      "text/plain": [
       "0"
      ]
     },
     "execution_count": 6,
     "metadata": {},
     "output_type": "execute_result"
    }
   ],
   "source": [
    "# remove dublicated rows\n",
    "df.drop_duplicates(inplace= True)\n",
    "df.duplicated().sum()"
   ]
  },
  {
   "cell_type": "code",
   "execution_count": 7,
   "id": "920e626d",
   "metadata": {
    "tags": []
   },
   "outputs": [
    {
     "data": {
      "text/plain": [
       "age             int64\n",
       "job            object\n",
       "marital        object\n",
       "education      object\n",
       "default        object\n",
       "housing        object\n",
       "loan           object\n",
       "contact        object\n",
       "month          object\n",
       "day_of_week    object\n",
       "duration        int64\n",
       "campaign        int64\n",
       "pdays           int64\n",
       "previous        int64\n",
       "poutcome       object\n",
       "y              object\n",
       "dtype: object"
      ]
     },
     "execution_count": 7,
     "metadata": {},
     "output_type": "execute_result"
    }
   ],
   "source": [
    "# check data types\n",
    "df.dtypes"
   ]
  },
  {
   "cell_type": "code",
   "execution_count": 8,
   "id": "c0d2994c",
   "metadata": {
    "tags": []
   },
   "outputs": [],
   "source": [
    "#seperating df into two dataframes, one for dategorical data and the other for numerical data.\n",
    "df_categorical = pd.DataFrame()\n",
    "df_numeric = pd.DataFrame()\n",
    "columns = df.columns.values\n",
    "for column in columns:\n",
    "    if df[column].dtype != np.int64 and df[column].dtype != np.float64: \n",
    "        df_categorical[column] = df[column]\n",
    "    else:\n",
    "        df_numeric[column] = df[column]"
   ]
  },
  {
   "cell_type": "code",
   "execution_count": 9,
   "id": "6d7da2a4",
   "metadata": {
    "tags": []
   },
   "outputs": [
    {
     "data": {
      "text/html": [
       "<div>\n",
       "<style scoped>\n",
       "    .dataframe tbody tr th:only-of-type {\n",
       "        vertical-align: middle;\n",
       "    }\n",
       "\n",
       "    .dataframe tbody tr th {\n",
       "        vertical-align: top;\n",
       "    }\n",
       "\n",
       "    .dataframe thead th {\n",
       "        text-align: right;\n",
       "    }\n",
       "</style>\n",
       "<table border=\"1\" class=\"dataframe\">\n",
       "  <thead>\n",
       "    <tr style=\"text-align: right;\">\n",
       "      <th></th>\n",
       "      <th>age</th>\n",
       "      <th>duration</th>\n",
       "      <th>campaign</th>\n",
       "      <th>pdays</th>\n",
       "      <th>previous</th>\n",
       "    </tr>\n",
       "  </thead>\n",
       "  <tbody>\n",
       "    <tr>\n",
       "      <th>0</th>\n",
       "      <td>49</td>\n",
       "      <td>227</td>\n",
       "      <td>4</td>\n",
       "      <td>999</td>\n",
       "      <td>0</td>\n",
       "    </tr>\n",
       "    <tr>\n",
       "      <th>1</th>\n",
       "      <td>37</td>\n",
       "      <td>202</td>\n",
       "      <td>2</td>\n",
       "      <td>999</td>\n",
       "      <td>1</td>\n",
       "    </tr>\n",
       "    <tr>\n",
       "      <th>2</th>\n",
       "      <td>78</td>\n",
       "      <td>1148</td>\n",
       "      <td>1</td>\n",
       "      <td>999</td>\n",
       "      <td>0</td>\n",
       "    </tr>\n",
       "    <tr>\n",
       "      <th>3</th>\n",
       "      <td>36</td>\n",
       "      <td>120</td>\n",
       "      <td>2</td>\n",
       "      <td>999</td>\n",
       "      <td>0</td>\n",
       "    </tr>\n",
       "    <tr>\n",
       "      <th>4</th>\n",
       "      <td>59</td>\n",
       "      <td>368</td>\n",
       "      <td>2</td>\n",
       "      <td>999</td>\n",
       "      <td>0</td>\n",
       "    </tr>\n",
       "  </tbody>\n",
       "</table>\n",
       "</div>"
      ],
      "text/plain": [
       "   age  duration  campaign  pdays  previous\n",
       "0   49       227         4    999         0\n",
       "1   37       202         2    999         1\n",
       "2   78      1148         1    999         0\n",
       "3   36       120         2    999         0\n",
       "4   59       368         2    999         0"
      ]
     },
     "execution_count": 9,
     "metadata": {},
     "output_type": "execute_result"
    }
   ],
   "source": [
    "df_numeric.head()"
   ]
  },
  {
   "cell_type": "code",
   "execution_count": 10,
   "id": "2e62c608",
   "metadata": {
    "tags": []
   },
   "outputs": [],
   "source": [
    "# droping pdays column\n",
    "df_numeric.drop(columns= 'pdays', axis= 1, inplace= True)"
   ]
  },
  {
   "cell_type": "code",
   "execution_count": 11,
   "id": "a8688c55",
   "metadata": {
    "scrolled": true,
    "tags": []
   },
   "outputs": [
    {
     "data": {
      "text/plain": [
       "job            12\n",
       "marital         4\n",
       "education       8\n",
       "default         3\n",
       "housing         3\n",
       "loan            3\n",
       "contact         2\n",
       "month          10\n",
       "day_of_week     5\n",
       "poutcome        3\n",
       "y               2\n",
       "dtype: int64"
      ]
     },
     "execution_count": 11,
     "metadata": {},
     "output_type": "execute_result"
    }
   ],
   "source": [
    "# number of unique values for eac categorical feature\n",
    "df_categorical.nunique()"
   ]
  },
  {
   "cell_type": "code",
   "execution_count": 12,
   "id": "8ae57229",
   "metadata": {
    "tags": []
   },
   "outputs": [],
   "source": [
    "# ploting bar charts for each categorical feature\n",
    "for i in df_categorical.columns:\n",
    "    plt.figure()\n",
    "    plt.title('{}'.format(i))\n",
    "    df.groupby(i)[i].count().plot(kind= 'bar')\n",
    "    plt.xticks(rotation= 45);"
   ]
  },
  {
   "cell_type": "markdown",
   "id": "e5f8acc8",
   "metadata": {},
   "source": [
    "###  <ins> Creating dummy variables </ins>"
   ]
  },
  {
   "cell_type": "code",
   "execution_count": 13,
   "id": "f9f4bee6",
   "metadata": {
    "tags": []
   },
   "outputs": [
    {
     "data": {
      "text/html": [
       "<div>\n",
       "<style scoped>\n",
       "    .dataframe tbody tr th:only-of-type {\n",
       "        vertical-align: middle;\n",
       "    }\n",
       "\n",
       "    .dataframe tbody tr th {\n",
       "        vertical-align: top;\n",
       "    }\n",
       "\n",
       "    .dataframe thead th {\n",
       "        text-align: right;\n",
       "    }\n",
       "</style>\n",
       "<table border=\"1\" class=\"dataframe\">\n",
       "  <thead>\n",
       "    <tr style=\"text-align: right;\">\n",
       "      <th></th>\n",
       "      <th>job_admin.</th>\n",
       "      <th>job_blue-collar</th>\n",
       "      <th>job_entrepreneur</th>\n",
       "      <th>job_housemaid</th>\n",
       "      <th>job_management</th>\n",
       "      <th>job_retired</th>\n",
       "      <th>job_self-employed</th>\n",
       "      <th>job_services</th>\n",
       "      <th>job_student</th>\n",
       "      <th>job_technician</th>\n",
       "      <th>...</th>\n",
       "      <th>month_sep</th>\n",
       "      <th>day_of_week_fri</th>\n",
       "      <th>day_of_week_mon</th>\n",
       "      <th>day_of_week_thu</th>\n",
       "      <th>day_of_week_tue</th>\n",
       "      <th>day_of_week_wed</th>\n",
       "      <th>poutcome_failure</th>\n",
       "      <th>poutcome_nonexistent</th>\n",
       "      <th>poutcome_success</th>\n",
       "      <th>y_yes</th>\n",
       "    </tr>\n",
       "  </thead>\n",
       "  <tbody>\n",
       "    <tr>\n",
       "      <th>0</th>\n",
       "      <td>0</td>\n",
       "      <td>1</td>\n",
       "      <td>0</td>\n",
       "      <td>0</td>\n",
       "      <td>0</td>\n",
       "      <td>0</td>\n",
       "      <td>0</td>\n",
       "      <td>0</td>\n",
       "      <td>0</td>\n",
       "      <td>0</td>\n",
       "      <td>...</td>\n",
       "      <td>0</td>\n",
       "      <td>0</td>\n",
       "      <td>0</td>\n",
       "      <td>0</td>\n",
       "      <td>0</td>\n",
       "      <td>1</td>\n",
       "      <td>0</td>\n",
       "      <td>1</td>\n",
       "      <td>0</td>\n",
       "      <td>0</td>\n",
       "    </tr>\n",
       "    <tr>\n",
       "      <th>1</th>\n",
       "      <td>0</td>\n",
       "      <td>0</td>\n",
       "      <td>1</td>\n",
       "      <td>0</td>\n",
       "      <td>0</td>\n",
       "      <td>0</td>\n",
       "      <td>0</td>\n",
       "      <td>0</td>\n",
       "      <td>0</td>\n",
       "      <td>0</td>\n",
       "      <td>...</td>\n",
       "      <td>0</td>\n",
       "      <td>0</td>\n",
       "      <td>0</td>\n",
       "      <td>0</td>\n",
       "      <td>0</td>\n",
       "      <td>1</td>\n",
       "      <td>1</td>\n",
       "      <td>0</td>\n",
       "      <td>0</td>\n",
       "      <td>0</td>\n",
       "    </tr>\n",
       "    <tr>\n",
       "      <th>2</th>\n",
       "      <td>0</td>\n",
       "      <td>0</td>\n",
       "      <td>0</td>\n",
       "      <td>0</td>\n",
       "      <td>0</td>\n",
       "      <td>1</td>\n",
       "      <td>0</td>\n",
       "      <td>0</td>\n",
       "      <td>0</td>\n",
       "      <td>0</td>\n",
       "      <td>...</td>\n",
       "      <td>0</td>\n",
       "      <td>0</td>\n",
       "      <td>1</td>\n",
       "      <td>0</td>\n",
       "      <td>0</td>\n",
       "      <td>0</td>\n",
       "      <td>0</td>\n",
       "      <td>1</td>\n",
       "      <td>0</td>\n",
       "      <td>1</td>\n",
       "    </tr>\n",
       "    <tr>\n",
       "      <th>3</th>\n",
       "      <td>1</td>\n",
       "      <td>0</td>\n",
       "      <td>0</td>\n",
       "      <td>0</td>\n",
       "      <td>0</td>\n",
       "      <td>0</td>\n",
       "      <td>0</td>\n",
       "      <td>0</td>\n",
       "      <td>0</td>\n",
       "      <td>0</td>\n",
       "      <td>...</td>\n",
       "      <td>0</td>\n",
       "      <td>0</td>\n",
       "      <td>1</td>\n",
       "      <td>0</td>\n",
       "      <td>0</td>\n",
       "      <td>0</td>\n",
       "      <td>0</td>\n",
       "      <td>1</td>\n",
       "      <td>0</td>\n",
       "      <td>0</td>\n",
       "    </tr>\n",
       "    <tr>\n",
       "      <th>4</th>\n",
       "      <td>0</td>\n",
       "      <td>0</td>\n",
       "      <td>0</td>\n",
       "      <td>0</td>\n",
       "      <td>0</td>\n",
       "      <td>1</td>\n",
       "      <td>0</td>\n",
       "      <td>0</td>\n",
       "      <td>0</td>\n",
       "      <td>0</td>\n",
       "      <td>...</td>\n",
       "      <td>0</td>\n",
       "      <td>0</td>\n",
       "      <td>0</td>\n",
       "      <td>0</td>\n",
       "      <td>1</td>\n",
       "      <td>0</td>\n",
       "      <td>0</td>\n",
       "      <td>1</td>\n",
       "      <td>0</td>\n",
       "      <td>0</td>\n",
       "    </tr>\n",
       "  </tbody>\n",
       "</table>\n",
       "<p>5 rows × 54 columns</p>\n",
       "</div>"
      ],
      "text/plain": [
       "   job_admin.  job_blue-collar  job_entrepreneur  job_housemaid  \\\n",
       "0           0                1                 0              0   \n",
       "1           0                0                 1              0   \n",
       "2           0                0                 0              0   \n",
       "3           1                0                 0              0   \n",
       "4           0                0                 0              0   \n",
       "\n",
       "   job_management  job_retired  job_self-employed  job_services  job_student  \\\n",
       "0               0            0                  0             0            0   \n",
       "1               0            0                  0             0            0   \n",
       "2               0            1                  0             0            0   \n",
       "3               0            0                  0             0            0   \n",
       "4               0            1                  0             0            0   \n",
       "\n",
       "   job_technician  ...  month_sep  day_of_week_fri  day_of_week_mon  \\\n",
       "0               0  ...          0                0                0   \n",
       "1               0  ...          0                0                0   \n",
       "2               0  ...          0                0                1   \n",
       "3               0  ...          0                0                1   \n",
       "4               0  ...          0                0                0   \n",
       "\n",
       "   day_of_week_thu  day_of_week_tue  day_of_week_wed  poutcome_failure  \\\n",
       "0                0                0                1                 0   \n",
       "1                0                0                1                 1   \n",
       "2                0                0                0                 0   \n",
       "3                0                0                0                 0   \n",
       "4                0                1                0                 0   \n",
       "\n",
       "   poutcome_nonexistent  poutcome_success  y_yes  \n",
       "0                     1                 0      0  \n",
       "1                     0                 0      0  \n",
       "2                     1                 0      1  \n",
       "3                     1                 0      0  \n",
       "4                     1                 0      0  \n",
       "\n",
       "[5 rows x 54 columns]"
      ]
     },
     "execution_count": 13,
     "metadata": {},
     "output_type": "execute_result"
    }
   ],
   "source": [
    "# dummy variables\n",
    "columns = df_categorical.columns\n",
    "df_encoded = pd.get_dummies(df_categorical[columns])\n",
    "df_encoded.drop(columns= 'y_no', inplace= True)\n",
    "df_encoded.head()"
   ]
  },
  {
   "cell_type": "code",
   "execution_count": 14,
   "id": "578b8bf1",
   "metadata": {
    "tags": []
   },
   "outputs": [
    {
     "data": {
      "text/plain": [
       "Index(['job_admin.', 'job_blue-collar', 'job_entrepreneur', 'job_housemaid',\n",
       "       'job_management', 'job_retired', 'job_self-employed', 'job_services',\n",
       "       'job_student', 'job_technician', 'job_unemployed', 'job_unknown',\n",
       "       'marital_divorced', 'marital_married', 'marital_single',\n",
       "       'marital_unknown', 'education_basic.4y', 'education_basic.6y',\n",
       "       'education_basic.9y', 'education_high.school', 'education_illiterate',\n",
       "       'education_professional.course', 'education_university.degree',\n",
       "       'education_unknown', 'default_no', 'default_unknown', 'default_yes',\n",
       "       'housing_no', 'housing_unknown', 'housing_yes', 'loan_no',\n",
       "       'loan_unknown', 'loan_yes', 'contact_cellular', 'contact_telephone',\n",
       "       'month_apr', 'month_aug', 'month_dec', 'month_jul', 'month_jun',\n",
       "       'month_mar', 'month_may', 'month_nov', 'month_oct', 'month_sep',\n",
       "       'day_of_week_fri', 'day_of_week_mon', 'day_of_week_thu',\n",
       "       'day_of_week_tue', 'day_of_week_wed', 'poutcome_failure',\n",
       "       'poutcome_nonexistent', 'poutcome_success', 'y_yes'],\n",
       "      dtype='object')"
      ]
     },
     "execution_count": 14,
     "metadata": {},
     "output_type": "execute_result"
    }
   ],
   "source": [
    "df_encoded.columns"
   ]
  },
  {
   "cell_type": "code",
   "execution_count": 15,
   "id": "6ab0e5ca",
   "metadata": {
    "tags": []
   },
   "outputs": [],
   "source": [
    "# droping redundat columns\n",
    "redundant_cols = ['job_unknown', 'marital_unknown', 'education_unknown', 'default_unknown', 'housing_unknown',\n",
    "                 'loan_unknown', 'contact_telephone', 'poutcome_nonexistent']\n",
    "df_encoded.drop(columns= redundant_cols, axis= 1, inplace= True)"
   ]
  },
  {
   "cell_type": "markdown",
   "id": "1b79639a",
   "metadata": {},
   "source": [
    "# Modeling naives bayes using the script above as base"
   ]
  },
  {
   "cell_type": "markdown",
   "id": "cc74f00e-623d-4605-8ebe-7a661a12b025",
   "metadata": {
    "tags": []
   },
   "source": [
    "To filter out all warnings and import the necessary libaries"
   ]
  },
  {
   "cell_type": "code",
   "execution_count": 16,
   "id": "1113471b-a168-4a1e-a899-1aaa1a11d14f",
   "metadata": {
    "tags": []
   },
   "outputs": [],
   "source": [
    "import warnings\n",
    "warnings.filterwarnings(\"ignore\")"
   ]
  },
  {
   "cell_type": "code",
   "execution_count": 17,
   "id": "9c988217-8e62-4a0a-b9dd-d9e56ede9dfe",
   "metadata": {
    "tags": []
   },
   "outputs": [],
   "source": [
    "from sklearn.metrics import accuracy_score\n",
    "from sklearn.preprocessing import MinMaxScaler\n",
    "from sklearn.naive_bayes import GaussianNB\n",
    "from sklearn.model_selection import cross_val_score"
   ]
  },
  {
   "cell_type": "markdown",
   "id": "6e7263fb-4c19-4f83-9144-5ba2afcb2a8b",
   "metadata": {
    "tags": []
   },
   "source": [
    "Loading in the dataset"
   ]
  },
  {
   "cell_type": "code",
   "execution_count": 18,
   "id": "73a6d95b-1f9a-4171-87ab-7dc8662c6787",
   "metadata": {
    "tags": []
   },
   "outputs": [],
   "source": [
    "df = pd.read_csv('banking_classification/new_train.csv')"
   ]
  },
  {
   "cell_type": "markdown",
   "id": "150e4475-4d89-4c96-b6bd-f48528313419",
   "metadata": {
    "tags": []
   },
   "source": [
    "Separating numerical and categorical features is necessary for preventing errors when applying the naives bayes model"
   ]
  },
  {
   "cell_type": "code",
   "execution_count": 19,
   "id": "32e5c5ab-d468-46ca-93e6-a8d3d92cf3a8",
   "metadata": {
    "tags": []
   },
   "outputs": [],
   "source": [
    "df_categorical = df.select_dtypes(include=['object'])\n",
    "df_numeric = df.select_dtypes(exclude=['object'])"
   ]
  },
  {
   "cell_type": "markdown",
   "id": "cff5525c-2c7c-49b2-97c9-7593ebe5606b",
   "metadata": {},
   "source": [
    "Dropping the 'pdays' column from the numeric features is necessary as it's being removed due to its high correlation and redundancy in the dataset."
   ]
  },
  {
   "cell_type": "code",
   "execution_count": 20,
   "id": "c19d5ea0-5ac9-4841-a476-8781bfa450de",
   "metadata": {
    "tags": []
   },
   "outputs": [],
   "source": [
    "df_numeric.drop(columns='pdays', axis=1, inplace=True)"
   ]
  },
  {
   "cell_type": "markdown",
   "id": "6e64728a-cd6e-457a-973e-47e3bb80db43",
   "metadata": {},
   "source": [
    "Creating dummy variables for categorical features is essential to convert categorical data into a numerical format"
   ]
  },
  {
   "cell_type": "code",
   "execution_count": 21,
   "id": "da6ff958-b0f4-4ca3-8dc1-382d950b2d06",
   "metadata": {
    "tags": []
   },
   "outputs": [],
   "source": [
    "df_encoded = pd.get_dummies(df_categorical, drop_first=True)"
   ]
  },
  {
   "cell_type": "markdown",
   "id": "042a13eb-cdaa-4262-803d-1a5de62a0c3e",
   "metadata": {},
   "source": [
    "Dropping redundant columns is necessary to eliminate features that provide little or no additional information to improve model performance and reduce computational complexity"
   ]
  },
  {
   "cell_type": "code",
   "execution_count": 22,
   "id": "c29c3d88-02ad-42cf-8860-a6119c37cde6",
   "metadata": {
    "tags": []
   },
   "outputs": [],
   "source": [
    "redundant_cols = ['job_unknown', 'marital_unknown', 'education_unknown', 'default_unknown', 'housing_unknown',\n",
    "                 'loan_unknown', 'contact_telephone', 'poutcome_nonexistent']\n",
    "df_encoded.drop(columns=redundant_cols, axis=1, inplace=True)"
   ]
  },
  {
   "cell_type": "markdown",
   "id": "f7f6274c-02af-40cb-8fda-f577b0669467",
   "metadata": {},
   "source": [
    "Concatenating numerical and categorical dataframes is essential to combine both types of features into a single dataset for modeling"
   ]
  },
  {
   "cell_type": "code",
   "execution_count": 23,
   "id": "72a791ff-3848-4443-b973-a220fbbe1c9f",
   "metadata": {
    "tags": []
   },
   "outputs": [],
   "source": [
    "df = pd.concat([df_numeric, df_encoded], axis=1)"
   ]
  },
  {
   "cell_type": "markdown",
   "id": "4cb6526a-01f7-4095-9a9e-a7c7dd52abc5",
   "metadata": {},
   "source": [
    "Normalizing numerical features is crucial to scale them to a consistent range, preventing features with larger magnitudes from dominating the model"
   ]
  },
  {
   "cell_type": "code",
   "execution_count": 24,
   "id": "df25f4ff-e524-403a-99f0-ac21b4d7500a",
   "metadata": {
    "tags": []
   },
   "outputs": [],
   "source": [
    "scaler = MinMaxScaler()\n",
    "columns_to_normalize = ['age', 'duration', 'campaign', 'previous']\n",
    "df[columns_to_normalize] = scaler.fit_transform(df[columns_to_normalize])"
   ]
  },
  {
   "cell_type": "markdown",
   "id": "c3919a1d-bced-4935-811b-68b4ca88a60b",
   "metadata": {},
   "source": [
    "In this code, PCA is applied to reduce the dimensionality of the dataset while retaining 90% of the explained variance. I choose 90% because from tests in my python envoirment it appeared the accuracy was the highest like this."
   ]
  },
  {
   "cell_type": "code",
   "execution_count": 25,
   "id": "e06fe10c-ded8-4749-b89f-1c4a6184a244",
   "metadata": {
    "tags": []
   },
   "outputs": [],
   "source": [
    "pca = PCA(n_components=0.90)\n",
    "X = pca.fit_transform(df.drop(columns='y_yes'))\n",
    "y = df['y_yes']"
   ]
  },
  {
   "cell_type": "markdown",
   "id": "06459da0-c605-4595-a308-1a48fab7a599",
   "metadata": {},
   "source": [
    "code creates a Gaussian Naive Bayes classifier a machine learning model to perform classification tasks based on the assumption of feature independence and normal distribution of data."
   ]
  },
  {
   "cell_type": "code",
   "execution_count": 26,
   "id": "8c21dd7b-5338-4dc2-ac27-eb58fac05ef2",
   "metadata": {
    "tags": []
   },
   "outputs": [],
   "source": [
    "nb_classifier = GaussianNB()"
   ]
  },
  {
   "cell_type": "markdown",
   "id": "e1f2458e-5bc5-49f5-96e7-d725299b7156",
   "metadata": {},
   "source": [
    "Performing cross-validation to estimate accuracy is important for assessing the performance of a machine learning model by splitting the dataset into multiple sets, training and testing the model on different sets, and computing the average accuracy to obtain a more robust performance estimate."
   ]
  },
  {
   "cell_type": "code",
   "execution_count": 27,
   "id": "bed50bbb-54cc-40b9-89c7-66133654f7fe",
   "metadata": {
    "tags": []
   },
   "outputs": [],
   "source": [
    "accuracy_scores = cross_val_score(nb_classifier, X, y, cv=5, scoring='accuracy')"
   ]
  },
  {
   "cell_type": "markdown",
   "id": "8b4dd1b3-9854-4d52-8a32-a0a3e910dda5",
   "metadata": {},
   "source": [
    "to get the mean accuracy score involves averaging the accuracy scores obtained from multiple cross-validation runs. the outcome of this results in a singel more accurate value"
   ]
  },
  {
   "cell_type": "code",
   "execution_count": 28,
   "id": "f9201995-628c-46ec-8232-23a799fb9f3f",
   "metadata": {
    "tags": []
   },
   "outputs": [],
   "source": [
    "mean_accuracy = np.mean(accuracy_scores)"
   ]
  },
  {
   "cell_type": "markdown",
   "id": "2ab1f7ab-05f3-43aa-9ddb-bbfa73ec2e80",
   "metadata": {
    "tags": []
   },
   "source": [
    "prints the actual single store stated above"
   ]
  },
  {
   "cell_type": "code",
   "execution_count": 29,
   "id": "6c0c0e07-f7eb-46b5-bab8-f838fdca93a5",
   "metadata": {
    "tags": []
   },
   "outputs": [
    {
     "name": "stdout",
     "output_type": "stream",
     "text": [
      "Mean Accuracy: 0.8872230652503793\n"
     ]
    }
   ],
   "source": [
    "print(\"Mean Accuracy:\", mean_accuracy)"
   ]
  },
  {
   "cell_type": "code",
   "execution_count": null,
   "id": "3fe296bc-2a37-4229-9f38-1aa6cb17bda6",
   "metadata": {},
   "outputs": [],
   "source": []
  }
 ],
 "metadata": {
  "kernelspec": {
   "display_name": "Python 3 (ipykernel)",
   "language": "python",
   "name": "python3"
  },
  "language_info": {
   "codemirror_mode": {
    "name": "ipython",
    "version": 3
   },
   "file_extension": ".py",
   "mimetype": "text/x-python",
   "name": "python",
   "nbconvert_exporter": "python",
   "pygments_lexer": "ipython3",
   "version": "3.11.4"
  }
 },
 "nbformat": 4,
 "nbformat_minor": 5
}
